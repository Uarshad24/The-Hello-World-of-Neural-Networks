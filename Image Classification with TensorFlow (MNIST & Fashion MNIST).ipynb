{
 "cells": [
  {
   "cell_type": "markdown",
   "id": "addc03c7-32a0-4925-8404-a1f1a323e7da",
   "metadata": {},
   "source": [
    "# Image Classification with TensorFlow (MNIST & Fashion MNIST)"
   ]
  },
  {
   "cell_type": "markdown",
   "id": "64cc2532-b948-41a4-9409-97a577469c23",
   "metadata": {},
   "source": [
    "## Importing Libraries"
   ]
  },
  {
   "cell_type": "code",
   "execution_count": 337,
   "id": "3d273ec9-4517-4c34-bb49-3c657a503585",
   "metadata": {},
   "outputs": [],
   "source": [
    "import tensorflow as tf\n",
    "import numpy as np\n",
    "import matplotlib.pyplot as plt\n",
    "from pprint import pprint"
   ]
  },
  {
   "cell_type": "markdown",
   "id": "8cc4f32e-4d19-4097-bc50-7b813c0d55fd",
   "metadata": {},
   "source": [
    "## TensorFlow Built-in Datasets\n",
    "The keras.datasets module provide a few toy datasets (already-vectorized, in Numpy format) that can be used for debugging a model or creating simple code examples."
   ]
  },
  {
   "cell_type": "code",
   "execution_count": 340,
   "id": "2ba048c1-c809-46c8-96a4-15ff9c3fc2ce",
   "metadata": {},
   "outputs": [
    {
     "name": "stdout",
     "output_type": "stream",
     "text": [
      "['__builtins__',\n",
      " '__cached__',\n",
      " '__doc__',\n",
      " '__file__',\n",
      " '__loader__',\n",
      " '__name__',\n",
      " '__package__',\n",
      " '__path__',\n",
      " '__spec__',\n",
      " 'boston_housing',\n",
      " 'california_housing',\n",
      " 'cifar10',\n",
      " 'cifar100',\n",
      " 'fashion_mnist',\n",
      " 'imdb',\n",
      " 'mnist',\n",
      " 'reuters']\n"
     ]
    }
   ],
   "source": [
    "import tensorflow.keras.datasets as datasets\n",
    "pprint(dir(datasets))"
   ]
  },
  {
   "cell_type": "markdown",
   "id": "83ab7476-f486-4cda-8180-4bd5f7520506",
   "metadata": {},
   "source": [
    "TensorFlow Datasets has larger & more useful ready-to-use datasets."
   ]
  },
  {
   "cell_type": "code",
   "execution_count": 343,
   "id": "7628b771-9245-45c2-a83d-f0d936610a53",
   "metadata": {},
   "outputs": [
    {
     "name": "stdout",
     "output_type": "stream",
     "text": [
      "['abstract_reasoning',\n",
      " 'accentdb',\n",
      " 'aeslc',\n",
      " 'aflw2k3d',\n",
      " 'ag_news_subset',\n",
      " 'ai2_arc',\n",
      " 'ai2_arc_with_ir',\n",
      " 'ai2dcaption',\n",
      " 'aloha_mobile',\n",
      " 'amazon_us_reviews',\n",
      " 'anli',\n",
      " 'answer_equivalence',\n",
      " 'arc',\n",
      " 'asimov_dilemmas_auto_val',\n",
      " 'asimov_dilemmas_scifi_train',\n",
      " 'asimov_dilemmas_scifi_val',\n",
      " 'asimov_injury_val',\n",
      " 'asimov_multimodal_auto_val',\n",
      " 'asimov_multimodal_manual_val',\n",
      " 'asqa',\n",
      " 'asset',\n",
      " 'assin2',\n",
      " 'asu_table_top_converted_externally_to_rlds',\n",
      " 'austin_buds_dataset_converted_externally_to_rlds',\n",
      " 'austin_sailor_dataset_converted_externally_to_rlds',\n",
      " 'austin_sirius_dataset_converted_externally_to_rlds',\n",
      " 'bair_robot_pushing_small',\n",
      " 'bc_z',\n",
      " 'bccd',\n",
      " 'beans',\n",
      " 'bee_dataset',\n",
      " 'beir',\n",
      " 'berkeley_autolab_ur5',\n",
      " 'berkeley_cable_routing',\n",
      " 'berkeley_fanuc_manipulation',\n",
      " 'berkeley_gnm_cory_hall',\n",
      " 'berkeley_gnm_recon',\n",
      " 'berkeley_gnm_sac_son',\n",
      " 'berkeley_mvp_converted_externally_to_rlds',\n",
      " 'berkeley_rpt_converted_externally_to_rlds',\n",
      " 'big_patent',\n",
      " 'bigearthnet',\n",
      " 'billsum',\n",
      " 'binarized_mnist',\n",
      " 'binary_alpha_digits',\n",
      " 'ble_wind_field',\n",
      " 'blimp',\n",
      " 'booksum',\n",
      " 'bool_q',\n",
      " 'bot_adversarial_dialogue',\n",
      " 'bridge',\n",
      " 'bridge_data_msr',\n",
      " 'bucc',\n",
      " 'c4',\n",
      " 'c4_wsrs',\n",
      " 'caltech101',\n",
      " 'caltech_birds2010',\n",
      " 'caltech_birds2011',\n",
      " 'cardiotox',\n",
      " 'cars196',\n",
      " 'cassava',\n",
      " 'cats_vs_dogs',\n",
      " 'celeb_a',\n",
      " 'celeb_a_hq',\n",
      " 'cfq',\n",
      " 'cherry_blossoms',\n",
      " 'chexpert',\n",
      " 'cifar10',\n",
      " 'cifar100',\n",
      " 'cifar100_n',\n",
      " 'cifar10_1',\n",
      " 'cifar10_corrupted',\n",
      " 'cifar10_h',\n",
      " 'cifar10_n',\n",
      " 'citrus_leaves',\n",
      " 'cityscapes',\n",
      " 'civil_comments',\n",
      " 'clevr',\n",
      " 'clic',\n",
      " 'clinc_oos',\n",
      " 'cmaterdb',\n",
      " 'cmu_franka_exploration_dataset_converted_externally_to_rlds',\n",
      " 'cmu_play_fusion',\n",
      " 'cmu_stretch',\n",
      " 'cnn_dailymail',\n",
      " 'coco',\n",
      " 'coco_captions',\n",
      " 'coil100',\n",
      " 'colorectal_histology',\n",
      " 'colorectal_histology_large',\n",
      " 'columbia_cairlab_pusht_real',\n",
      " 'common_voice',\n",
      " 'conll2002',\n",
      " 'conll2003',\n",
      " 'conq_hose_manipulation',\n",
      " 'controlled_noisy_web_labels',\n",
      " 'coqa',\n",
      " 'corr2cause',\n",
      " 'cos_e',\n",
      " 'cosmos_qa',\n",
      " 'covid19',\n",
      " 'covid19sum',\n",
      " 'crema_d',\n",
      " 'criteo',\n",
      " 'cs_restaurants',\n",
      " 'curated_breast_imaging_ddsm',\n",
      " 'cycle_gan',\n",
      " 'd4rl_adroit_door',\n",
      " 'd4rl_adroit_hammer',\n",
      " 'd4rl_adroit_pen',\n",
      " 'd4rl_adroit_relocate',\n",
      " 'd4rl_antmaze',\n",
      " 'd4rl_mujoco_ant',\n",
      " 'd4rl_mujoco_halfcheetah',\n",
      " 'd4rl_mujoco_hopper',\n",
      " 'd4rl_mujoco_walker2d',\n",
      " 'dart',\n",
      " 'databricks_dolly',\n",
      " 'davis',\n",
      " 'deep1b',\n",
      " 'deep_weeds',\n",
      " 'definite_pronoun_resolution',\n",
      " 'dementiabank',\n",
      " 'diabetic_retinopathy_detection',\n",
      " 'diamonds',\n",
      " 'dices',\n",
      " 'div2k',\n",
      " 'dlr_edan_shared_control_converted_externally_to_rlds',\n",
      " 'dlr_sara_grid_clamp_converted_externally_to_rlds',\n",
      " 'dlr_sara_pour_converted_externally_to_rlds',\n",
      " 'dmlab',\n",
      " 'dobbe',\n",
      " 'doc_nli',\n",
      " 'dolma',\n",
      " 'dolphin_number_word',\n",
      " 'domainnet',\n",
      " 'downsampled_imagenet',\n",
      " 'drop',\n",
      " 'dsprites',\n",
      " 'dtd',\n",
      " 'duke_ultrasound',\n",
      " 'e2e_cleaned',\n",
      " 'efron_morris75',\n",
      " 'emnist',\n",
      " 'eraser_multi_rc',\n",
      " 'esnli',\n",
      " 'eth_agent_affordances',\n",
      " 'eurosat',\n",
      " 'fashion_mnist',\n",
      " 'flic',\n",
      " 'flores',\n",
      " 'fmb',\n",
      " 'food101',\n",
      " 'forest_fires',\n",
      " 'fractal20220817_data',\n",
      " 'fuss',\n",
      " 'gap',\n",
      " 'geirhos_conflict_stimuli',\n",
      " 'gem',\n",
      " 'genomics_ood',\n",
      " 'german_credit_numeric',\n",
      " 'gigaword',\n",
      " 'glove100_angular',\n",
      " 'glue',\n",
      " 'goemotions',\n",
      " 'gov_report',\n",
      " 'gpt3',\n",
      " 'gref',\n",
      " 'groove',\n",
      " 'grounded_scan',\n",
      " 'gsm8k',\n",
      " 'gtzan',\n",
      " 'gtzan_music_speech',\n",
      " 'hellaswag',\n",
      " 'higgs',\n",
      " 'hillstrom',\n",
      " 'horses_or_humans',\n",
      " 'howell',\n",
      " 'i_naturalist2017',\n",
      " 'i_naturalist2018',\n",
      " 'i_naturalist2021',\n",
      " 'iamlab_cmu_pickup_insert_converted_externally_to_rlds',\n",
      " 'imagenet2012',\n",
      " 'imagenet2012_corrupted',\n",
      " 'imagenet2012_fewshot',\n",
      " 'imagenet2012_multilabel',\n",
      " 'imagenet2012_real',\n",
      " 'imagenet2012_subset',\n",
      " 'imagenet_a',\n",
      " 'imagenet_lt',\n",
      " 'imagenet_pi',\n",
      " 'imagenet_r',\n",
      " 'imagenet_resized',\n",
      " 'imagenet_sketch',\n",
      " 'imagenet_v2',\n",
      " 'imagenette',\n",
      " 'imagewang',\n",
      " 'imdb_reviews',\n",
      " 'imperialcollege_sawyer_wrist_cam',\n",
      " 'io_ai_tech',\n",
      " 'irc_disentanglement',\n",
      " 'iris',\n",
      " 'istella',\n",
      " 'jaco_play',\n",
      " 'kaist_nonprehensile_converted_externally_to_rlds',\n",
      " 'kddcup99',\n",
      " 'kitti',\n",
      " 'kmnist',\n",
      " 'kuka',\n",
      " 'laion400m',\n",
      " 'lambada',\n",
      " 'lfw',\n",
      " 'librispeech',\n",
      " 'librispeech_lm',\n",
      " 'libritts',\n",
      " 'ljspeech',\n",
      " 'lm1b',\n",
      " 'locomotion',\n",
      " 'lost_and_found',\n",
      " 'lsun',\n",
      " 'lvis',\n",
      " 'malaria',\n",
      " 'maniskill_dataset_converted_externally_to_rlds',\n",
      " 'math_dataset',\n",
      " 'math_qa',\n",
      " 'mctaco',\n",
      " 'media_sum',\n",
      " 'mimic_play',\n",
      " 'mlqa',\n",
      " 'mnist',\n",
      " 'mnist_corrupted',\n",
      " 'movie_lens',\n",
      " 'movie_rationales',\n",
      " 'movielens',\n",
      " 'moving_mnist',\n",
      " 'mrqa',\n",
      " 'mslr_web',\n",
      " 'mt_opt',\n",
      " 'mtnt',\n",
      " 'multi_news',\n",
      " 'multi_nli',\n",
      " 'multi_nli_mismatch',\n",
      " 'natural_instructions',\n",
      " 'natural_questions',\n",
      " 'natural_questions_open',\n",
      " 'newsroom',\n",
      " 'nsynth',\n",
      " 'nyu_depth_v2',\n",
      " 'nyu_door_opening_surprising_effectiveness',\n",
      " 'nyu_franka_play_dataset_converted_externally_to_rlds',\n",
      " 'nyu_rot_dataset_converted_externally_to_rlds',\n",
      " 'ogbg_molpcba',\n",
      " 'omniglot',\n",
      " 'open_images_challenge2019_detection',\n",
      " 'open_images_v4',\n",
      " 'openbookqa',\n",
      " 'opinion_abstracts',\n",
      " 'opinosis',\n",
      " 'opus',\n",
      " 'oxford_flowers102',\n",
      " 'oxford_iiit_pet',\n",
      " 'para_crawl',\n",
      " 'pass',\n",
      " 'patch_camelyon',\n",
      " 'paws_wiki',\n",
      " 'paws_x_wiki',\n",
      " 'penguins',\n",
      " 'pet_finder',\n",
      " 'pg19',\n",
      " 'piqa',\n",
      " 'places365_small',\n",
      " 'placesfull',\n",
      " 'plant_leaves',\n",
      " 'plant_village',\n",
      " 'plantae_k',\n",
      " 'plex_robosuite',\n",
      " 'pneumonia_mnist',\n",
      " 'protein_net',\n",
      " 'q_re_cc',\n",
      " 'qa4mre',\n",
      " 'qasc',\n",
      " 'qm9',\n",
      " 'quac',\n",
      " 'quality',\n",
      " 'quickdraw_bitmap',\n",
      " 'race',\n",
      " 'radon',\n",
      " 'real_toxicity_prompts',\n",
      " 'reddit',\n",
      " 'reddit_disentanglement',\n",
      " 'reddit_tifu',\n",
      " 'ref_coco',\n",
      " 'resisc45',\n",
      " 'rlu_atari',\n",
      " 'rlu_atari_checkpoints',\n",
      " 'rlu_atari_checkpoints_ordered',\n",
      " 'rlu_control_suite',\n",
      " 'rlu_dmlab_explore_object_rewards_few',\n",
      " 'rlu_dmlab_explore_object_rewards_many',\n",
      " 'rlu_dmlab_rooms_select_nonmatching_object',\n",
      " 'rlu_dmlab_rooms_watermaze',\n",
      " 'rlu_dmlab_seekavoid_arena01',\n",
      " 'rlu_locomotion',\n",
      " 'rlu_rwrl',\n",
      " 'robo_set',\n",
      " 'robomimic_mg',\n",
      " 'robomimic_mh',\n",
      " 'robomimic_ph',\n",
      " 'robonet',\n",
      " 'robosuite_panda_pick_place_can',\n",
      " 'roboturk',\n",
      " 'rock_paper_scissors',\n",
      " 'rock_you',\n",
      " 's3o4d',\n",
      " 'salient_span_wikipedia',\n",
      " 'samsum',\n",
      " 'savee',\n",
      " 'scan',\n",
      " 'scene_parse150',\n",
      " 'schema_guided_dialogue',\n",
      " 'sci_tail',\n",
      " 'scicite',\n",
      " 'scientific_papers',\n",
      " 'scrolls',\n",
      " 'segment_anything',\n",
      " 'sentiment140',\n",
      " 'shapes3d',\n",
      " 'sift1m',\n",
      " 'simpte',\n",
      " 'siscore',\n",
      " 'smallnorb',\n",
      " 'smart_buildings',\n",
      " 'smartwatch_gestures',\n",
      " 'snli',\n",
      " 'so2sat',\n",
      " 'speech_commands',\n",
      " 'spoc_robot',\n",
      " 'spoken_digit',\n",
      " 'squad',\n",
      " 'squad_question_generation',\n",
      " 'stanford_dogs',\n",
      " 'stanford_hydra_dataset_converted_externally_to_rlds',\n",
      " 'stanford_kuka_multimodal_dataset_converted_externally_to_rlds',\n",
      " 'stanford_mask_vit_converted_externally_to_rlds',\n",
      " 'stanford_online_products',\n",
      " 'stanford_robocook_converted_externally_to_rlds',\n",
      " 'star_cfq',\n",
      " 'starcraft_video',\n",
      " 'stl10',\n",
      " 'story_cloze',\n",
      " 'summscreen',\n",
      " 'sun397',\n",
      " 'super_glue',\n",
      " 'svhn_cropped',\n",
      " 'symmetric_solids',\n",
      " 'taco_play',\n",
      " 'tao',\n",
      " 'tatoeba',\n",
      " 'ted_hrlr_translate',\n",
      " 'ted_multi_translate',\n",
      " 'tedlium',\n",
      " 'tf_flowers',\n",
      " 'the300w_lp',\n",
      " 'tidybot',\n",
      " 'tiny_shakespeare',\n",
      " 'titanic',\n",
      " 'tokyo_u_lsmo_converted_externally_to_rlds',\n",
      " 'toto',\n",
      " 'trec',\n",
      " 'trivia_qa',\n",
      " 'tydi_qa',\n",
      " 'uc_merced',\n",
      " 'ucf101',\n",
      " 'ucsd_kitchen_dataset_converted_externally_to_rlds',\n",
      " 'ucsd_pick_and_place_dataset_converted_externally_to_rlds',\n",
      " 'uiuc_d3field',\n",
      " 'unified_qa',\n",
      " 'universal_dependencies',\n",
      " 'unnatural_instructions',\n",
      " 'usc_cloth_sim_converted_externally_to_rlds',\n",
      " 'user_libri_audio',\n",
      " 'user_libri_text',\n",
      " 'utaustin_mutex',\n",
      " 'utokyo_pr2_opening_fridge_converted_externally_to_rlds',\n",
      " 'utokyo_pr2_tabletop_manipulation_converted_externally_to_rlds',\n",
      " 'utokyo_saytap_converted_externally_to_rlds',\n",
      " 'utokyo_xarm_bimanual_converted_externally_to_rlds',\n",
      " 'utokyo_xarm_pick_and_place_converted_externally_to_rlds',\n",
      " 'vctk',\n",
      " 'vima_converted_externally_to_rlds',\n",
      " 'viola',\n",
      " 'visual_domain_decathlon',\n",
      " 'voc',\n",
      " 'voxceleb',\n",
      " 'voxforge',\n",
      " 'wake_vision',\n",
      " 'waymo_open_dataset',\n",
      " 'web_graph',\n",
      " 'web_nlg',\n",
      " 'web_questions',\n",
      " 'webvid',\n",
      " 'wider_face',\n",
      " 'wiki40b',\n",
      " 'wiki_auto',\n",
      " 'wiki_bio',\n",
      " 'wiki_dialog',\n",
      " 'wiki_table_questions',\n",
      " 'wiki_table_text',\n",
      " 'wikiann',\n",
      " 'wikihow',\n",
      " 'wikipedia',\n",
      " 'wikipedia_toxicity_subtypes',\n",
      " 'wine_quality',\n",
      " 'winogrande',\n",
      " 'wit',\n",
      " 'wit_kaggle',\n",
      " 'wmt13_translate',\n",
      " 'wmt14_translate',\n",
      " 'wmt15_translate',\n",
      " 'wmt16_translate',\n",
      " 'wmt17_translate',\n",
      " 'wmt18_translate',\n",
      " 'wmt19_translate',\n",
      " 'wmt_t2t_translate',\n",
      " 'wmt_translate',\n",
      " 'wordnet',\n",
      " 'wsc273',\n",
      " 'xnli',\n",
      " 'xquad',\n",
      " 'xsum',\n",
      " 'xtreme_pawsx',\n",
      " 'xtreme_pos',\n",
      " 'xtreme_s',\n",
      " 'xtreme_xnli',\n",
      " 'yahoo_ltrc',\n",
      " 'yelp_polarity_reviews',\n",
      " 'yes_no',\n",
      " 'youtube_vis']\n"
     ]
    }
   ],
   "source": [
    "import tensorflow_datasets as tfds\n",
    "datasets_list = tfds.list_builders()\n",
    "pprint(datasets_list)"
   ]
  },
  {
   "cell_type": "markdown",
   "id": "89d6aefc-ba5e-4598-97fd-6e9f2c3331e5",
   "metadata": {},
   "source": [
    "## MNIST DATASET"
   ]
  },
  {
   "cell_type": "markdown",
   "id": "f27ea6a6-0d5b-4981-af63-1786a3072b8f",
   "metadata": {},
   "source": [
    "#### Load and Normalize the MNIST dataset"
   ]
  },
  {
   "cell_type": "code",
   "execution_count": 347,
   "id": "c8b1fdbe-3545-4cd4-a476-be241f7bf08c",
   "metadata": {},
   "outputs": [
    {
     "name": "stdout",
     "output_type": "stream",
     "text": [
      "<module 'keras.api.datasets.mnist' from 'C:\\\\Users\\\\LENOVO\\\\anaconda3\\\\Lib\\\\site-packages\\\\keras\\\\api\\\\datasets\\\\mnist\\\\__init__.py'>\n"
     ]
    }
   ],
   "source": [
    "# Loading the dataset from Keras Datasets\n",
    "mnist = tf.keras.datasets.mnist\n",
    "print(mnist)"
   ]
  },
  {
   "cell_type": "code",
   "execution_count": 349,
   "id": "a77e256f-2105-4dfc-888a-8a156f7f3acc",
   "metadata": {},
   "outputs": [
    {
     "name": "stdout",
     "output_type": "stream",
     "text": [
      "Training Image Shape: (60000, 28, 28)\n",
      "Training Label Shape: (60000,)\n",
      "Testing Image Shape: (10000, 28, 28)\n",
      "Testing Label Shape: (10000,)\n"
     ]
    }
   ],
   "source": [
    "(x_train, y_train), (x_test, y_test) = mnist.load_data()\n",
    "print(f'Training Image Shape: {x_train.shape}')\n",
    "print(f'Training Label Shape: {y_train.shape}')\n",
    "print(f'Testing Image Shape: {x_test.shape}')\n",
    "print(f'Testing Label Shape: {y_test.shape}')"
   ]
  },
  {
   "cell_type": "code",
   "execution_count": 351,
   "id": "3bcd3faf-0f79-41d1-b3ba-9abfd43c78b5",
   "metadata": {},
   "outputs": [
    {
     "name": "stdout",
     "output_type": "stream",
     "text": [
      "LABEL: 5\n",
      "\n",
      "IMAGE PIXEL ARRAY:\n",
      "\n",
      "[[  0   0   0   0   0   0   0   0   0   0   0   0   0   0   0   0   0   0   0   0   0   0   0   0   0   0   0   0]\n",
      " [  0   0   0   0   0   0   0   0   0   0   0   0   0   0   0   0   0   0   0   0   0   0   0   0   0   0   0   0]\n",
      " [  0   0   0   0   0   0   0   0   0   0   0   0   0   0   0   0   0   0   0   0   0   0   0   0   0   0   0   0]\n",
      " [  0   0   0   0   0   0   0   0   0   0   0   0   0   0   0   0   0   0   0   0   0   0   0   0   0   0   0   0]\n",
      " [  0   0   0   0   0   0   0   0   0   0   0   0   0   0   0   0   0   0   0   0   0   0   0   0   0   0   0   0]\n",
      " [  0   0   0   0   0   0   0   0   0   0   0   0   3  18  18  18 126 136 175  26 166 255 247 127   0   0   0   0]\n",
      " [  0   0   0   0   0   0   0   0  30  36  94 154 170 253 253 253 253 253 225 172 253 242 195  64   0   0   0   0]\n",
      " [  0   0   0   0   0   0   0  49 238 253 253 253 253 253 253 253 253 251  93  82  82  56  39   0   0   0   0   0]\n",
      " [  0   0   0   0   0   0   0  18 219 253 253 253 253 253 198 182 247 241   0   0   0   0   0   0   0   0   0   0]\n",
      " [  0   0   0   0   0   0   0   0  80 156 107 253 253 205  11   0  43 154   0   0   0   0   0   0   0   0   0   0]\n",
      " [  0   0   0   0   0   0   0   0   0  14   1 154 253  90   0   0   0   0   0   0   0   0   0   0   0   0   0   0]\n",
      " [  0   0   0   0   0   0   0   0   0   0   0 139 253 190   2   0   0   0   0   0   0   0   0   0   0   0   0   0]\n",
      " [  0   0   0   0   0   0   0   0   0   0   0  11 190 253  70   0   0   0   0   0   0   0   0   0   0   0   0   0]\n",
      " [  0   0   0   0   0   0   0   0   0   0   0   0  35 241 225 160 108   1   0   0   0   0   0   0   0   0   0   0]\n",
      " [  0   0   0   0   0   0   0   0   0   0   0   0   0  81 240 253 253 119  25   0   0   0   0   0   0   0   0   0]\n",
      " [  0   0   0   0   0   0   0   0   0   0   0   0   0   0  45 186 253 253 150  27   0   0   0   0   0   0   0   0]\n",
      " [  0   0   0   0   0   0   0   0   0   0   0   0   0   0   0  16  93 252 253 187   0   0   0   0   0   0   0   0]\n",
      " [  0   0   0   0   0   0   0   0   0   0   0   0   0   0   0   0   0 249 253 249  64   0   0   0   0   0   0   0]\n",
      " [  0   0   0   0   0   0   0   0   0   0   0   0   0   0  46 130 183 253 253 207   2   0   0   0   0   0   0   0]\n",
      " [  0   0   0   0   0   0   0   0   0   0   0   0  39 148 229 253 253 253 250 182   0   0   0   0   0   0   0   0]\n",
      " [  0   0   0   0   0   0   0   0   0   0  24 114 221 253 253 253 253 201  78   0   0   0   0   0   0   0   0   0]\n",
      " [  0   0   0   0   0   0   0   0  23  66 213 253 253 253 253 198  81   2   0   0   0   0   0   0   0   0   0   0]\n",
      " [  0   0   0   0   0   0  18 171 219 253 253 253 253 195  80   9   0   0   0   0   0   0   0   0   0   0   0   0]\n",
      " [  0   0   0   0  55 172 226 253 253 253 253 244 133  11   0   0   0   0   0   0   0   0   0   0   0   0   0   0]\n",
      " [  0   0   0   0 136 253 253 253 212 135 132  16   0   0   0   0   0   0   0   0   0   0   0   0   0   0   0   0]\n",
      " [  0   0   0   0   0   0   0   0   0   0   0   0   0   0   0   0   0   0   0   0   0   0   0   0   0   0   0   0]\n",
      " [  0   0   0   0   0   0   0   0   0   0   0   0   0   0   0   0   0   0   0   0   0   0   0   0   0   0   0   0]\n",
      " [  0   0   0   0   0   0   0   0   0   0   0   0   0   0   0   0   0   0   0   0   0   0   0   0   0   0   0   0]]\n",
      "\n",
      "\n"
     ]
    },
    {
     "data": {
      "image/png": "[encoded data removed]",
      "text/plain": [
       "<Figure size 640x480 with 2 Axes>"
      ]
     },
     "metadata": {},
     "output_type": "display_data"
    }
   ],
   "source": [
    "print(f'LABEL: {y_train[0]}')\n",
    "print(f'\\nIMAGE PIXEL ARRAY:\\n\\n{x_train[0]}\\n\\n')\n",
    "\n",
    "plt.imshow(x_train[0])\n",
    "plt.colorbar()\n",
    "plt.show()"
   ]
  },
  {
   "cell_type": "code",
   "execution_count": 352,
   "id": "08e1f201-56f5-45b6-b913-b7cd3962ffa4",
   "metadata": {},
   "outputs": [],
   "source": [
    "# Normalize the pixel values\n",
    "x_train = x_train / 255.0"
   ]
  },
  {
   "cell_type": "markdown",
   "id": "2150a326-83c7-454e-b9d2-13c2ac6d8348",
   "metadata": {},
   "source": [
    "#### Create and Compile Model"
   ]
  },
  {
   "cell_type": "code",
   "execution_count": 356,
   "id": "c97ec9a4-c8c4-49b6-8d31-6895457d88ef",
   "metadata": {},
   "outputs": [],
   "source": [
    "def create_and_compile_model():\n",
    "    model = tf.keras.models.Sequential([ \n",
    "\t\ttf.keras.Input(shape=(28,28)),\n",
    "        tf.keras.layers.Flatten(),\n",
    "        tf.keras.layers.Dense(units=512 , activation=tf.nn.relu),\n",
    "        tf.keras.layers.Dense(units=10 , activation=tf.nn.softmax)\n",
    "    ]) \n",
    "    \n",
    "    # Compile the model\n",
    "    model.compile(\n",
    "\t\toptimizer='adam',\n",
    "\t\tloss='sparse_categorical_crossentropy',\n",
    "\t\tmetrics=['accuracy']\n",
    "\t)\n",
    "\n",
    "    return model"
   ]
  },
  {
   "cell_type": "markdown",
   "id": "521dcca3-edd5-4944-943d-6a39f27c6066",
   "metadata": {},
   "source": [
    "#### Create a Callback class\n"
   ]
  },
  {
   "cell_type": "code",
   "execution_count": 359,
   "id": "7148271d-08b3-41be-8c45-a359edbd5e63",
   "metadata": {},
   "outputs": [],
   "source": [
    "class EarlyStoppingCallback(tf.keras.callbacks.Callback):\n",
    "\n",
    "    def on_epoch_end(self, epoch, logs=None):\n",
    "        \n",
    "        # Check if the accuracy is greater or equal to 0.98\n",
    "        if logs['accuracy'] >= 0.98:\n",
    "                            \n",
    "            # Stop training once the above condition is met\n",
    "            self.model.stop_training = True\n",
    "\n",
    "            print(\"\\nReached 98% accuracy so cancelling training!\") \n"
   ]
  },
  {
   "cell_type": "markdown",
   "id": "e9c71110-cf34-40ed-a56c-72c3ff47e31a",
   "metadata": {},
   "source": [
    "#### Train MNIST"
   ]
  },
  {
   "cell_type": "code",
   "execution_count": 362,
   "id": "aeeab2b9-fd91-467a-b806-c8a9e15ad9a0",
   "metadata": {},
   "outputs": [
    {
     "name": "stdout",
     "output_type": "stream",
     "text": [
      "Epoch 1/10\n",
      "\u001b[1m1875/1875\u001b[0m \u001b[32m━━━━━━━━━━━━━━━━━━━━\u001b[0m\u001b[37m\u001b[0m \u001b[1m26s\u001b[0m 12ms/step - accuracy: 0.9006 - loss: 0.3377\n",
      "Epoch 2/10\n",
      "\u001b[1m1875/1875\u001b[0m \u001b[32m━━━━━━━━━━━━━━━━━━━━\u001b[0m\u001b[37m\u001b[0m \u001b[1m40s\u001b[0m 12ms/step - accuracy: 0.9744 - loss: 0.0826\n",
      "Epoch 3/10\n",
      "\u001b[1m1872/1875\u001b[0m \u001b[32m━━━━━━━━━━━━━━━━━━━\u001b[0m\u001b[37m━\u001b[0m \u001b[1m0s\u001b[0m 12ms/step - accuracy: 0.9849 - loss: 0.0501\n",
      "Reached 98% accuracy so cancelling training!\n",
      "\u001b[1m1875/1875\u001b[0m \u001b[32m━━━━━━━━━━━━━━━━━━━━\u001b[0m\u001b[37m\u001b[0m \u001b[1m40s\u001b[0m 12ms/step - accuracy: 0.9849 - loss: 0.0501\n"
     ]
    }
   ],
   "source": [
    "model = create_and_compile_model()\n",
    "history = model.fit(x_train, y_train, epochs=10, callbacks=[EarlyStoppingCallback()])"
   ]
  },
  {
   "cell_type": "markdown",
   "id": "4fce2798-f956-4dc1-8eb4-4ce58f498f22",
   "metadata": {},
   "source": [
    "### FASHION MNIST DATASET"
   ]
  },
  {
   "cell_type": "markdown",
   "id": "fde85737-5b96-4f12-a32c-124600f83d3e",
   "metadata": {},
   "source": [
    "The [Fashion MNIST dataset](https://github.com/zalandoresearch/fashion-mnist) is a collection of grayscale 28x28 pixel clothing images. Each image is associated with a label as shown in this table.\n",
    "\n",
    "| Label | Description |\n",
    "| --- | --- |\n",
    "| 0 | T-shirt/top |\n",
    "| 1 | Trouser |\n",
    "| 2 | Pullover |\n",
    "| 3 | Dress |\n",
    "| 4 | Coat |\n",
    "| 5 | Sandal |\n",
    "| 6 | Shirt |\n",
    "| 7 | Sneaker |\n",
    "| 8 | Bag |\n",
    "| 9 | Ankle boot |\n"
   ]
  },
  {
   "cell_type": "code",
   "execution_count": 365,
   "id": "081ff3ba-4a77-41ba-b227-7145c28afea0",
   "metadata": {},
   "outputs": [
    {
     "name": "stdout",
     "output_type": "stream",
     "text": [
      "<module 'keras.api.datasets.fashion_mnist' from 'C:\\\\Users\\\\LENOVO\\\\anaconda3\\\\Lib\\\\site-packages\\\\keras\\\\api\\\\datasets\\\\fashion_mnist\\\\__init__.py'>\n"
     ]
    }
   ],
   "source": [
    "fmnist = tf.keras.datasets.fashion_mnist\n",
    "print(fmnist)"
   ]
  },
  {
   "cell_type": "markdown",
   "id": "25c5bf83-7cc7-413e-9b41-0378863999ac",
   "metadata": {},
   "source": [
    "Calling load_data() on this object will give you two tuples with two lists each. These will be the training and testing values for the graphics that contain the clothing items and their labels."
   ]
  },
  {
   "cell_type": "code",
   "execution_count": 367,
   "id": "49b121f7-23a3-4ca5-9405-b4ef60eb96f2",
   "metadata": {},
   "outputs": [
    {
     "name": "stdout",
     "output_type": "stream",
     "text": [
      "Training Image Shape: (60000, 28, 28)\n",
      "Training Label Shape: (60000,)\n",
      "Testing Image Shape: (10000, 28, 28)\n",
      "Testing Label Shape: (10000,)\n"
     ]
    }
   ],
   "source": [
    "(training_images, training_labels), (test_images, test_labels) = fmnist.load_data()\n",
    "print(f'Training Image Shape: {training_images.shape}')\n",
    "print(f'Training Label Shape: {training_labels.shape}')\n",
    "print(f'Testing Image Shape: {test_images.shape}')\n",
    "print(f'Testing Label Shape: {test_labels.shape}')"
   ]
  },
  {
   "cell_type": "code",
   "execution_count": 368,
   "id": "2644bc27-e881-4954-9a8f-60b959f8eadb",
   "metadata": {},
   "outputs": [
    {
     "name": "stdout",
     "output_type": "stream",
     "text": [
      "LABEL: 9\n",
      "\n",
      "IMAGE PIXEL ARRAY:\n",
      "\n",
      "[[  0   0   0   0   0   0   0   0   0   0   0   0   0   0   0   0   0   0   0   0   0   0   0   0   0   0   0   0]\n",
      " [  0   0   0   0   0   0   0   0   0   0   0   0   0   0   0   0   0   0   0   0   0   0   0   0   0   0   0   0]\n",
      " [  0   0   0   0   0   0   0   0   0   0   0   0   0   0   0   0   0   0   0   0   0   0   0   0   0   0   0   0]\n",
      " [  0   0   0   0   0   0   0   0   0   0   0   0   1   0   0  13  73   0   0   1   4   0   0   0   0   1   1   0]\n",
      " [  0   0   0   0   0   0   0   0   0   0   0   0   3   0  36 136 127  62  54   0   0   0   1   3   4   0   0   3]\n",
      " [  0   0   0   0   0   0   0   0   0   0   0   0   6   0 102 204 176 134 144 123  23   0   0   0   0  12  10   0]\n",
      " [  0   0   0   0   0   0   0   0   0   0   0   0   0   0 155 236 207 178 107 156 161 109  64  23  77 130  72  15]\n",
      " [  0   0   0   0   0   0   0   0   0   0   0   1   0  69 207 223 218 216 216 163 127 121 122 146 141  88 172  66]\n",
      " [  0   0   0   0   0   0   0   0   0   1   1   1   0 200 232 232 233 229 223 223 215 213 164 127 123 196 229   0]\n",
      " [  0   0   0   0   0   0   0   0   0   0   0   0   0 183 225 216 223 228 235 227 224 222 224 221 223 245 173   0]\n",
      " [  0   0   0   0   0   0   0   0   0   0   0   0   0 193 228 218 213 198 180 212 210 211 213 223 220 243 202   0]\n",
      " [  0   0   0   0   0   0   0   0   0   1   3   0  12 219 220 212 218 192 169 227 208 218 224 212 226 197 209  52]\n",
      " [  0   0   0   0   0   0   0   0   0   0   6   0  99 244 222 220 218 203 198 221 215 213 222 220 245 119 167  56]\n",
      " [  0   0   0   0   0   0   0   0   0   4   0   0  55 236 228 230 228 240 232 213 218 223 234 217 217 209  92   0]\n",
      " [  0   0   1   4   6   7   2   0   0   0   0   0 237 226 217 223 222 219 222 221 216 223 229 215 218 255  77   0]\n",
      " [  0   3   0   0   0   0   0   0   0  62 145 204 228 207 213 221 218 208 211 218 224 223 219 215 224 244 159   0]\n",
      " [  0   0   0   0  18  44  82 107 189 228 220 222 217 226 200 205 211 230 224 234 176 188 250 248 233 238 215   0]\n",
      " [  0  57 187 208 224 221 224 208 204 214 208 209 200 159 245 193 206 223 255 255 221 234 221 211 220 232 246   0]\n",
      " [  3 202 228 224 221 211 211 214 205 205 205 220 240  80 150 255 229 221 188 154 191 210 204 209 222 228 225   0]\n",
      " [ 98 233 198 210 222 229 229 234 249 220 194 215 217 241  65  73 106 117 168 219 221 215 217 223 223 224 229  29]\n",
      " [ 75 204 212 204 193 205 211 225 216 185 197 206 198 213 240 195 227 245 239 223 218 212 209 222 220 221 230  67]\n",
      " [ 48 203 183 194 213 197 185 190 194 192 202 214 219 221 220 236 225 216 199 206 186 181 177 172 181 205 206 115]\n",
      " [  0 122 219 193 179 171 183 196 204 210 213 207 211 210 200 196 194 191 195 191 198 192 176 156 167 177 210  92]\n",
      " [  0   0  74 189 212 191 175 172 175 181 185 188 189 188 193 198 204 209 210 210 211 188 188 194 192 216 170   0]\n",
      " [  2   0   0   0  66 200 222 237 239 242 246 243 244 221 220 193 191 179 182 182 181 176 166 168  99  58   0   0]\n",
      " [  0   0   0   0   0   0   0  40  61  44  72  41  35   0   0   0   0   0   0   0   0   0   0   0   0   0   0   0]\n",
      " [  0   0   0   0   0   0   0   0   0   0   0   0   0   0   0   0   0   0   0   0   0   0   0   0   0   0   0   0]\n",
      " [  0   0   0   0   0   0   0   0   0   0   0   0   0   0   0   0   0   0   0   0   0   0   0   0   0   0   0   0]]\n",
      "\n",
      "\n"
     ]
    },
    {
     "data": {
      "image/png": "[encoded data removed]",
      "text/plain": [
       "<Figure size 640x480 with 2 Axes>"
      ]
     },
     "metadata": {},
     "output_type": "display_data"
    }
   ],
   "source": [
    "print(f'LABEL: {training_labels[0]}')\n",
    "print(f'\\nIMAGE PIXEL ARRAY:\\n\\n{training_images[0]}\\n\\n')\n",
    "\n",
    "plt.imshow(training_images[index])\n",
    "plt.colorbar()\n",
    "plt.show()"
   ]
  },
  {
   "cell_type": "code",
   "execution_count": 369,
   "id": "8471f669-8048-4f0a-9a77-074efead34e0",
   "metadata": {},
   "outputs": [],
   "source": [
    "# Normalize the pixel values of the train and test images\n",
    "training_images  = training_images / 255.0\n",
    "test_images = test_images / 255.0"
   ]
  },
  {
   "cell_type": "code",
   "execution_count": 370,
   "id": "cca03cce-cd2b-444c-86a1-ce127fde1086",
   "metadata": {},
   "outputs": [],
   "source": [
    "model = tf.keras.models.Sequential([\n",
    "    tf.keras.Input(shape=(28,28)),\n",
    "    tf.keras.layers.Flatten(), \n",
    "    tf.keras.layers.Dense(512, activation=tf.nn.relu), \n",
    "    tf.keras.layers.Dense(10, activation=tf.nn.softmax)\n",
    "])"
   ]
  },
  {
   "cell_type": "code",
   "execution_count": 371,
   "id": "4ff0581c-1cd4-4c4a-913a-39c4a156ba09",
   "metadata": {},
   "outputs": [
    {
     "name": "stdout",
     "output_type": "stream",
     "text": [
      "Epoch 1/10\n",
      "\u001b[1m1875/1875\u001b[0m \u001b[32m━━━━━━━━━━━━━━━━━━━━\u001b[0m\u001b[37m\u001b[0m \u001b[1m25s\u001b[0m 12ms/step - accuracy: 0.7914 - loss: 0.5871\n",
      "Epoch 2/10\n",
      "\u001b[1m1875/1875\u001b[0m \u001b[32m━━━━━━━━━━━━━━━━━━━━\u001b[0m\u001b[37m\u001b[0m \u001b[1m39s\u001b[0m 11ms/step - accuracy: 0.8682 - loss: 0.3638\n",
      "Epoch 3/10\n",
      "\u001b[1m1875/1875\u001b[0m \u001b[32m━━━━━━━━━━━━━━━━━━━━\u001b[0m\u001b[37m\u001b[0m \u001b[1m20s\u001b[0m 10ms/step - accuracy: 0.8808 - loss: 0.3224\n",
      "Epoch 4/10\n",
      "\u001b[1m1875/1875\u001b[0m \u001b[32m━━━━━━━━━━━━━━━━━━━━\u001b[0m\u001b[37m\u001b[0m \u001b[1m21s\u001b[0m 10ms/step - accuracy: 0.8868 - loss: 0.3008\n",
      "Epoch 5/10\n",
      "\u001b[1m1875/1875\u001b[0m \u001b[32m━━━━━━━━━━━━━━━━━━━━\u001b[0m\u001b[37m\u001b[0m \u001b[1m21s\u001b[0m 10ms/step - accuracy: 0.8966 - loss: 0.2771\n",
      "Epoch 6/10\n",
      "\u001b[1m1875/1875\u001b[0m \u001b[32m━━━━━━━━━━━━━━━━━━━━\u001b[0m\u001b[37m\u001b[0m \u001b[1m21s\u001b[0m 11ms/step - accuracy: 0.8986 - loss: 0.2641\n",
      "Epoch 7/10\n",
      "\u001b[1m1875/1875\u001b[0m \u001b[32m━━━━━━━━━━━━━━━━━━━━\u001b[0m\u001b[37m\u001b[0m \u001b[1m20s\u001b[0m 11ms/step - accuracy: 0.9071 - loss: 0.2502\n",
      "Epoch 8/10\n",
      "\u001b[1m1875/1875\u001b[0m \u001b[32m━━━━━━━━━━━━━━━━━━━━\u001b[0m\u001b[37m\u001b[0m \u001b[1m19s\u001b[0m 10ms/step - accuracy: 0.9103 - loss: 0.2389\n",
      "Epoch 9/10\n",
      "\u001b[1m1875/1875\u001b[0m \u001b[32m━━━━━━━━━━━━━━━━━━━━\u001b[0m\u001b[37m\u001b[0m \u001b[1m18s\u001b[0m 9ms/step - accuracy: 0.9132 - loss: 0.2289\n",
      "Epoch 10/10\n",
      "\u001b[1m1875/1875\u001b[0m \u001b[32m━━━━━━━━━━━━━━━━━━━━\u001b[0m\u001b[37m\u001b[0m \u001b[1m18s\u001b[0m 10ms/step - accuracy: 0.9173 - loss: 0.2181\n"
     ]
    },
    {
     "data": {
      "text/plain": [
       "<keras.src.callbacks.history.History at 0x20d48e05b80>"
      ]
     },
     "execution_count": 371,
     "metadata": {},
     "output_type": "execute_result"
    }
   ],
   "source": [
    "model.compile(optimizer = tf.optimizers.Adam(),\n",
    "              loss = 'sparse_categorical_crossentropy',\n",
    "              metrics=['accuracy'])\n",
    "\n",
    "model.fit(training_images, training_labels, epochs=10)"
   ]
  },
  {
   "cell_type": "markdown",
   "id": "967a7757-836a-4823-8b94-9e35b10a0e72",
   "metadata": {},
   "source": [
    "#### Convolutional Neural Networks (CNNs)"
   ]
  },
  {
   "cell_type": "code",
   "execution_count": 373,
   "id": "77eda404-8d7f-4adb-8a08-a853617aee58",
   "metadata": {},
   "outputs": [
    {
     "data": {
      "text/html": [
       "<pre style=\"white-space:pre;overflow-x:auto;line-height:normal;font-family:Menlo,'DejaVu Sans Mono',consolas,'Courier New',monospace\"><span style=\"font-weight: bold\">Model: \"sequential_16\"</span>\n",
       "</pre>\n"
      ],
      "text/plain": [
       "\u001b[1mModel: \"sequential_16\"\u001b[0m\n"
      ]
     },
     "metadata": {},
     "output_type": "display_data"
    },
    {
     "data": {
      "text/html": [
       "<pre style=\"white-space:pre;overflow-x:auto;line-height:normal;font-family:Menlo,'DejaVu Sans Mono',consolas,'Courier New',monospace\">┏━━━━━━━━━━━━━━━━━━━━━━━━━━━━━━━━━━━━━━┳━━━━━━━━━━━━━━━━━━━━━━━━━━━━━┳━━━━━━━━━━━━━━━━━┓\n",
       "┃<span style=\"font-weight: bold\"> Layer (type)                         </span>┃<span style=\"font-weight: bold\"> Output Shape                </span>┃<span style=\"font-weight: bold\">         Param # </span>┃\n",
       "┡━━━━━━━━━━━━━━━━━━━━━━━━━━━━━━━━━━━━━━╇━━━━━━━━━━━━━━━━━━━━━━━━━━━━━╇━━━━━━━━━━━━━━━━━┩\n",
       "│ conv2d_6 (<span style=\"color: #0087ff; text-decoration-color: #0087ff\">Conv2D</span>)                    │ (<span style=\"color: #00d7ff; text-decoration-color: #00d7ff\">None</span>, <span style=\"color: #00af00; text-decoration-color: #00af00\">26</span>, <span style=\"color: #00af00; text-decoration-color: #00af00\">26</span>, <span style=\"color: #00af00; text-decoration-color: #00af00\">64</span>)          │             <span style=\"color: #00af00; text-decoration-color: #00af00\">640</span> │\n",
       "├──────────────────────────────────────┼─────────────────────────────┼─────────────────┤\n",
       "│ max_pooling2d_6 (<span style=\"color: #0087ff; text-decoration-color: #0087ff\">MaxPooling2D</span>)       │ (<span style=\"color: #00d7ff; text-decoration-color: #00d7ff\">None</span>, <span style=\"color: #00af00; text-decoration-color: #00af00\">13</span>, <span style=\"color: #00af00; text-decoration-color: #00af00\">13</span>, <span style=\"color: #00af00; text-decoration-color: #00af00\">64</span>)          │               <span style=\"color: #00af00; text-decoration-color: #00af00\">0</span> │\n",
       "├──────────────────────────────────────┼─────────────────────────────┼─────────────────┤\n",
       "│ conv2d_7 (<span style=\"color: #0087ff; text-decoration-color: #0087ff\">Conv2D</span>)                    │ (<span style=\"color: #00d7ff; text-decoration-color: #00d7ff\">None</span>, <span style=\"color: #00af00; text-decoration-color: #00af00\">11</span>, <span style=\"color: #00af00; text-decoration-color: #00af00\">11</span>, <span style=\"color: #00af00; text-decoration-color: #00af00\">64</span>)          │          <span style=\"color: #00af00; text-decoration-color: #00af00\">36,928</span> │\n",
       "├──────────────────────────────────────┼─────────────────────────────┼─────────────────┤\n",
       "│ max_pooling2d_7 (<span style=\"color: #0087ff; text-decoration-color: #0087ff\">MaxPooling2D</span>)       │ (<span style=\"color: #00d7ff; text-decoration-color: #00d7ff\">None</span>, <span style=\"color: #00af00; text-decoration-color: #00af00\">5</span>, <span style=\"color: #00af00; text-decoration-color: #00af00\">5</span>, <span style=\"color: #00af00; text-decoration-color: #00af00\">64</span>)            │               <span style=\"color: #00af00; text-decoration-color: #00af00\">0</span> │\n",
       "├──────────────────────────────────────┼─────────────────────────────┼─────────────────┤\n",
       "│ flatten_16 (<span style=\"color: #0087ff; text-decoration-color: #0087ff\">Flatten</span>)                 │ (<span style=\"color: #00d7ff; text-decoration-color: #00d7ff\">None</span>, <span style=\"color: #00af00; text-decoration-color: #00af00\">1600</span>)                │               <span style=\"color: #00af00; text-decoration-color: #00af00\">0</span> │\n",
       "├──────────────────────────────────────┼─────────────────────────────┼─────────────────┤\n",
       "│ dense_32 (<span style=\"color: #0087ff; text-decoration-color: #0087ff\">Dense</span>)                     │ (<span style=\"color: #00d7ff; text-decoration-color: #00d7ff\">None</span>, <span style=\"color: #00af00; text-decoration-color: #00af00\">128</span>)                 │         <span style=\"color: #00af00; text-decoration-color: #00af00\">204,928</span> │\n",
       "├──────────────────────────────────────┼─────────────────────────────┼─────────────────┤\n",
       "│ dense_33 (<span style=\"color: #0087ff; text-decoration-color: #0087ff\">Dense</span>)                     │ (<span style=\"color: #00d7ff; text-decoration-color: #00d7ff\">None</span>, <span style=\"color: #00af00; text-decoration-color: #00af00\">10</span>)                  │           <span style=\"color: #00af00; text-decoration-color: #00af00\">1,290</span> │\n",
       "└──────────────────────────────────────┴─────────────────────────────┴─────────────────┘\n",
       "</pre>\n"
      ],
      "text/plain": [
       "┏━━━━━━━━━━━━━━━━━━━━━━━━━━━━━━━━━━━━━━┳━━━━━━━━━━━━━━━━━━━━━━━━━━━━━┳━━━━━━━━━━━━━━━━━┓\n",
       "┃\u001b[1m \u001b[0m\u001b[1mLayer (type)                        \u001b[0m\u001b[1m \u001b[0m┃\u001b[1m \u001b[0m\u001b[1mOutput Shape               \u001b[0m\u001b[1m \u001b[0m┃\u001b[1m \u001b[0m\u001b[1m        Param #\u001b[0m\u001b[1m \u001b[0m┃\n",
       "┡━━━━━━━━━━━━━━━━━━━━━━━━━━━━━━━━━━━━━━╇━━━━━━━━━━━━━━━━━━━━━━━━━━━━━╇━━━━━━━━━━━━━━━━━┩\n",
       "│ conv2d_6 (\u001b[38;5;33mConv2D\u001b[0m)                    │ (\u001b[38;5;45mNone\u001b[0m, \u001b[38;5;34m26\u001b[0m, \u001b[38;5;34m26\u001b[0m, \u001b[38;5;34m64\u001b[0m)          │             \u001b[38;5;34m640\u001b[0m │\n",
       "├──────────────────────────────────────┼─────────────────────────────┼─────────────────┤\n",
       "│ max_pooling2d_6 (\u001b[38;5;33mMaxPooling2D\u001b[0m)       │ (\u001b[38;5;45mNone\u001b[0m, \u001b[38;5;34m13\u001b[0m, \u001b[38;5;34m13\u001b[0m, \u001b[38;5;34m64\u001b[0m)          │               \u001b[38;5;34m0\u001b[0m │\n",
       "├──────────────────────────────────────┼─────────────────────────────┼─────────────────┤\n",
       "│ conv2d_7 (\u001b[38;5;33mConv2D\u001b[0m)                    │ (\u001b[38;5;45mNone\u001b[0m, \u001b[38;5;34m11\u001b[0m, \u001b[38;5;34m11\u001b[0m, \u001b[38;5;34m64\u001b[0m)          │          \u001b[38;5;34m36,928\u001b[0m │\n",
       "├──────────────────────────────────────┼─────────────────────────────┼─────────────────┤\n",
       "│ max_pooling2d_7 (\u001b[38;5;33mMaxPooling2D\u001b[0m)       │ (\u001b[38;5;45mNone\u001b[0m, \u001b[38;5;34m5\u001b[0m, \u001b[38;5;34m5\u001b[0m, \u001b[38;5;34m64\u001b[0m)            │               \u001b[38;5;34m0\u001b[0m │\n",
       "├──────────────────────────────────────┼─────────────────────────────┼─────────────────┤\n",
       "│ flatten_16 (\u001b[38;5;33mFlatten\u001b[0m)                 │ (\u001b[38;5;45mNone\u001b[0m, \u001b[38;5;34m1600\u001b[0m)                │               \u001b[38;5;34m0\u001b[0m │\n",
       "├──────────────────────────────────────┼─────────────────────────────┼─────────────────┤\n",
       "│ dense_32 (\u001b[38;5;33mDense\u001b[0m)                     │ (\u001b[38;5;45mNone\u001b[0m, \u001b[38;5;34m128\u001b[0m)                 │         \u001b[38;5;34m204,928\u001b[0m │\n",
       "├──────────────────────────────────────┼─────────────────────────────┼─────────────────┤\n",
       "│ dense_33 (\u001b[38;5;33mDense\u001b[0m)                     │ (\u001b[38;5;45mNone\u001b[0m, \u001b[38;5;34m10\u001b[0m)                  │           \u001b[38;5;34m1,290\u001b[0m │\n",
       "└──────────────────────────────────────┴─────────────────────────────┴─────────────────┘\n"
      ]
     },
     "metadata": {},
     "output_type": "display_data"
    },
    {
     "data": {
      "text/html": [
       "<pre style=\"white-space:pre;overflow-x:auto;line-height:normal;font-family:Menlo,'DejaVu Sans Mono',consolas,'Courier New',monospace\"><span style=\"font-weight: bold\"> Total params: </span><span style=\"color: #00af00; text-decoration-color: #00af00\">243,786</span> (952.29 KB)\n",
       "</pre>\n"
      ],
      "text/plain": [
       "\u001b[1m Total params: \u001b[0m\u001b[38;5;34m243,786\u001b[0m (952.29 KB)\n"
      ]
     },
     "metadata": {},
     "output_type": "display_data"
    },
    {
     "data": {
      "text/html": [
       "<pre style=\"white-space:pre;overflow-x:auto;line-height:normal;font-family:Menlo,'DejaVu Sans Mono',consolas,'Courier New',monospace\"><span style=\"font-weight: bold\"> Trainable params: </span><span style=\"color: #00af00; text-decoration-color: #00af00\">243,786</span> (952.29 KB)\n",
       "</pre>\n"
      ],
      "text/plain": [
       "\u001b[1m Trainable params: \u001b[0m\u001b[38;5;34m243,786\u001b[0m (952.29 KB)\n"
      ]
     },
     "metadata": {},
     "output_type": "display_data"
    },
    {
     "data": {
      "text/html": [
       "<pre style=\"white-space:pre;overflow-x:auto;line-height:normal;font-family:Menlo,'DejaVu Sans Mono',consolas,'Courier New',monospace\"><span style=\"font-weight: bold\"> Non-trainable params: </span><span style=\"color: #00af00; text-decoration-color: #00af00\">0</span> (0.00 B)\n",
       "</pre>\n"
      ],
      "text/plain": [
       "\u001b[1m Non-trainable params: \u001b[0m\u001b[38;5;34m0\u001b[0m (0.00 B)\n"
      ]
     },
     "metadata": {},
     "output_type": "display_data"
    },
    {
     "name": "stdout",
     "output_type": "stream",
     "text": [
      "\n",
      "MODEL TRAINING:\n",
      "Epoch 1/10\n",
      "\u001b[1m1875/1875\u001b[0m \u001b[32m━━━━━━━━━━━━━━━━━━━━\u001b[0m\u001b[37m\u001b[0m \u001b[1m60s\u001b[0m 30ms/step - accuracy: 0.7766 - loss: 0.6040\n",
      "Epoch 2/10\n",
      "\u001b[1m1875/1875\u001b[0m \u001b[32m━━━━━━━━━━━━━━━━━━━━\u001b[0m\u001b[37m\u001b[0m \u001b[1m81s\u001b[0m 29ms/step - accuracy: 0.8879 - loss: 0.3038\n",
      "Epoch 3/10\n",
      "\u001b[1m1875/1875\u001b[0m \u001b[32m━━━━━━━━━━━━━━━━━━━━\u001b[0m\u001b[37m\u001b[0m \u001b[1m82s\u001b[0m 29ms/step - accuracy: 0.9063 - loss: 0.2531\n",
      "Epoch 4/10\n",
      "\u001b[1m1875/1875\u001b[0m \u001b[32m━━━━━━━━━━━━━━━━━━━━\u001b[0m\u001b[37m\u001b[0m \u001b[1m53s\u001b[0m 28ms/step - accuracy: 0.9170 - loss: 0.2207\n",
      "Epoch 5/10\n",
      "\u001b[1m1875/1875\u001b[0m \u001b[32m━━━━━━━━━━━━━━━━━━━━\u001b[0m\u001b[37m\u001b[0m \u001b[1m84s\u001b[0m 29ms/step - accuracy: 0.9292 - loss: 0.1907\n",
      "Epoch 6/10\n",
      "\u001b[1m1875/1875\u001b[0m \u001b[32m━━━━━━━━━━━━━━━━━━━━\u001b[0m\u001b[37m\u001b[0m \u001b[1m55s\u001b[0m 29ms/step - accuracy: 0.9395 - loss: 0.1653\n",
      "Epoch 7/10\n",
      "\u001b[1m1875/1875\u001b[0m \u001b[32m━━━━━━━━━━━━━━━━━━━━\u001b[0m\u001b[37m\u001b[0m \u001b[1m55s\u001b[0m 29ms/step - accuracy: 0.9449 - loss: 0.1481\n",
      "Epoch 8/10\n",
      "\u001b[1m1875/1875\u001b[0m \u001b[32m━━━━━━━━━━━━━━━━━━━━\u001b[0m\u001b[37m\u001b[0m \u001b[1m54s\u001b[0m 29ms/step - accuracy: 0.9515 - loss: 0.1272\n",
      "Epoch 9/10\n",
      "\u001b[1m1875/1875\u001b[0m \u001b[32m━━━━━━━━━━━━━━━━━━━━\u001b[0m\u001b[37m\u001b[0m \u001b[1m55s\u001b[0m 29ms/step - accuracy: 0.9584 - loss: 0.1100\n",
      "Epoch 10/10\n",
      "\u001b[1m1875/1875\u001b[0m \u001b[32m━━━━━━━━━━━━━━━━━━━━\u001b[0m\u001b[37m\u001b[0m \u001b[1m82s\u001b[0m 29ms/step - accuracy: 0.9634 - loss: 0.0959\n"
     ]
    },
    {
     "data": {
      "text/plain": [
       "<keras.src.callbacks.history.History at 0x20d49481d00>"
      ]
     },
     "execution_count": 373,
     "metadata": {},
     "output_type": "execute_result"
    }
   ],
   "source": [
    "model = tf.keras.models.Sequential([\n",
    "                                                         \n",
    "    # Add convolutions and max pooling\n",
    "    tf.keras.Input(shape=(28,28,1)),\n",
    "    tf.keras.layers.Conv2D(64, (3,3), activation='relu'),\n",
    "    tf.keras.layers.MaxPooling2D(2, 2),\n",
    "    tf.keras.layers.Conv2D(64, (3,3), activation='relu'),\n",
    "    tf.keras.layers.MaxPooling2D(2,2),\n",
    "\n",
    "    tf.keras.layers.Flatten(),\n",
    "    tf.keras.layers.Dense(128, activation='relu'),\n",
    "    tf.keras.layers.Dense(10, activation='softmax')\n",
    "])\n",
    "\n",
    "# Print the model summary\n",
    "model.summary()\n",
    "\n",
    "model.compile(optimizer='adam', loss='sparse_categorical_crossentropy', metrics=['accuracy'])\n",
    "\n",
    "# Train the model\n",
    "print(\"\\nMODEL TRAINING:\")\n",
    "model.fit(training_images, training_labels, epochs=10)"
   ]
  },
  {
   "cell_type": "markdown",
   "id": "e1aa0dd8-3be4-416c-9b63-eee36ad39aee",
   "metadata": {},
   "source": [
    "#### Model Evaluation"
   ]
  },
  {
   "cell_type": "code",
   "execution_count": 375,
   "id": "8b7bf1dc-ebd5-4b61-81e3-436e1344c496",
   "metadata": {},
   "outputs": [
    {
     "name": "stdout",
     "output_type": "stream",
     "text": [
      "\n",
      "MODEL EVALUATION:\n",
      "test set accuracy: 0.909600019454956\n",
      "test set loss: 0.28917649388313293\n"
     ]
    }
   ],
   "source": [
    "# Evaluate on the test set\n",
    "print(\"\\nMODEL EVALUATION:\")\n",
    "test_loss, test_accuracy = model.evaluate(test_images, test_labels, verbose=0)\n",
    "print(f'test set accuracy: {test_accuracy}')\n",
    "print(f'test set loss: {test_loss}')"
   ]
  },
  {
   "cell_type": "code",
   "execution_count": null,
   "id": "7cd21652-fa92-4a31-b155-1b95da29d213",
   "metadata": {},
   "outputs": [],
   "source": []
  }
 ],
 "metadata": {
  "kernelspec": {
   "display_name": "Python 3 (ipykernel)",
   "language": "python",
   "name": "python3"
  },
  "language_info": {
   "codemirror_mode": {
    "name": "ipython",
    "version": 3
   },
   "file_extension": ".py",
   "mimetype": "text/x-python",
   "name": "python",
   "nbconvert_exporter": "python",
   "pygments_lexer": "ipython3",
   "version": "3.12.3"
  }
 },
 "nbformat": 4,
 "nbformat_minor": 5
}
